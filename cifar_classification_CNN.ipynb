{
  "nbformat": 4,
  "nbformat_minor": 0,
  "metadata": {
    "colab": {
      "name": "cifar_classification_CNN.ipynb",
      "provenance": [],
      "collapsed_sections": []
    },
    "kernelspec": {
      "name": "python3",
      "display_name": "Python 3"
    },
    "language_info": {
      "name": "python"
    },
    "accelerator": "GPU",
    "gpuClass": "standard"
  },
  "cells": [
    {
      "cell_type": "code",
      "execution_count": null,
      "metadata": {
        "id": "7cSzAlmWiVEs"
      },
      "outputs": [],
      "source": [
        "import tensorflow as tf\n",
        "import numpy as np\n",
        "import matplotlib.pyplot as plt"
      ]
    },
    {
      "cell_type": "code",
      "source": [
        "cifar = tf.keras.datasets.cifar10"
      ],
      "metadata": {
        "id": "w8-hMtkwiyeU"
      },
      "execution_count": null,
      "outputs": []
    },
    {
      "cell_type": "code",
      "source": [
        "(x_train, y_train), (x_test, y_test) = cifar.load_data()"
      ],
      "metadata": {
        "colab": {
          "base_uri": "https://localhost:8080/"
        },
        "id": "3XTImFTFi-m6",
        "outputId": "eaa02f1e-a897-4664-84c0-68c51d9ec325"
      },
      "execution_count": null,
      "outputs": [
        {
          "output_type": "stream",
          "name": "stdout",
          "text": [
            "Downloading data from https://www.cs.toronto.edu/~kriz/cifar-10-python.tar.gz\n",
            "170500096/170498071 [==============================] - 6s 0us/step\n",
            "170508288/170498071 [==============================] - 6s 0us/step\n"
          ]
        }
      ]
    },
    {
      "cell_type": "code",
      "source": [
        "print(x_train.shape)\n",
        "print(y_train.shape)\n",
        "print(x_test.shape)\n",
        "print(y_test.shape)"
      ],
      "metadata": {
        "colab": {
          "base_uri": "https://localhost:8080/"
        },
        "id": "vu0ObS5mjL7a",
        "outputId": "4da3f200-6aa9-4620-ccfa-4cc93f47f991"
      },
      "execution_count": null,
      "outputs": [
        {
          "output_type": "stream",
          "name": "stdout",
          "text": [
            "(50000, 32, 32, 3)\n",
            "(50000, 1)\n",
            "(10000, 32, 32, 3)\n",
            "(10000, 1)\n"
          ]
        }
      ]
    },
    {
      "cell_type": "markdown",
      "source": [
        "// y 값 레이블 변경\n"
      ],
      "metadata": {
        "id": "2GmBymTdjhUl"
      }
    },
    {
      "cell_type": "code",
      "source": [
        "y_train[0]"
      ],
      "metadata": {
        "colab": {
          "base_uri": "https://localhost:8080/"
        },
        "id": "ZiFGAYOdjXwf",
        "outputId": "44969fd5-01b3-4c84-81d0-d3fd02f148f0"
      },
      "execution_count": null,
      "outputs": [
        {
          "output_type": "execute_result",
          "data": {
            "text/plain": [
              "array([6], dtype=uint8)"
            ]
          },
          "metadata": {},
          "execution_count": 6
        }
      ]
    },
    {
      "cell_type": "code",
      "source": [
        "plt.imshow(x_train[0])"
      ],
      "metadata": {
        "colab": {
          "base_uri": "https://localhost:8080/",
          "height": 283
        },
        "id": "ADba_0Gej51r",
        "outputId": "f09e3ccb-1f51-4f69-9c44-ee1e6d9a5680"
      },
      "execution_count": null,
      "outputs": [
        {
          "output_type": "execute_result",
          "data": {
            "text/plain": [
              "<matplotlib.image.AxesImage at 0x7fa67a08fb90>"
            ]
          },
          "metadata": {},
          "execution_count": 7
        },
        {
          "output_type": "display_data",
          "data": {
            "text/plain": [
              "<Figure size 432x288 with 1 Axes>"
            ],
            "image/png": "[encoded data removed]"
          },
          "metadata": {
            "needs_background": "light"
          }
        }
      ]
    },
    {
      "cell_type": "code",
      "source": [
        "class_name = ['airplane', 'automobile','bird', 'cat','deer','dog' ,'frog', 'horse','sheep', 'truck' ]"
      ],
      "metadata": {
        "id": "BBd_Uue-kBTs"
      },
      "execution_count": null,
      "outputs": []
    },
    {
      "cell_type": "code",
      "source": [
        "x_train, x_test = x_train / 255.0, x_test / 255.0\n"
      ],
      "metadata": {
        "id": "ea4kdza7m74U"
      },
      "execution_count": null,
      "outputs": []
    },
    {
      "cell_type": "code",
      "source": [
        "x_train = x_train.reshape((-1, 32, 32, 3))"
      ],
      "metadata": {
        "id": "49vCumnX2baJ"
      },
      "execution_count": null,
      "outputs": []
    },
    {
      "cell_type": "code",
      "source": [
        " "
      ],
      "metadata": {
        "id": "u9qv5C3228XN"
      },
      "execution_count": null,
      "outputs": []
    },
    {
      "cell_type": "code",
      "source": [
        "model = tf.keras.models.Sequential()\n",
        "model.add(tf.keras.layers.Conv2D(64, (3, 3), activation='relu', input_shape=(32, 32, 3)))\n",
        "model.add(tf.keras.layers.Conv2D(128,(3,3), activation = 'relu'))\n",
        "model.add(tf.keras.layers.MaxPooling2D((2, 2)))\n",
        "model.add(tf.keras.layers.Conv2D(128,(3,3), activation = 'relu'))\n",
        "\n",
        "model.add(tf.keras.layers.Flatten())\n",
        "model.add(tf.keras.layers.Dense(128, activation=tf.nn.relu))\n",
        "model.add(tf.keras.layers.Dense(10, activation=tf.nn.softmax))\n",
        "model.summary()"
      ],
      "metadata": {
        "colab": {
          "base_uri": "https://localhost:8080/"
        },
        "id": "eAIQKq7l2K6P",
        "outputId": "ad339e48-7370-41c9-bb2a-dff8c2486d48"
      },
      "execution_count": null,
      "outputs": [
        {
          "output_type": "stream",
          "name": "stdout",
          "text": [
            "Model: \"sequential\"\n",
            "_________________________________________________________________\n",
            " Layer (type)                Output Shape              Param #   \n",
            "=================================================================\n",
            " conv2d (Conv2D)             (None, 30, 30, 64)        1792      \n",
            "                                                                 \n",
            " conv2d_1 (Conv2D)           (None, 28, 28, 128)       73856     \n",
            "                                                                 \n",
            " max_pooling2d (MaxPooling2D  (None, 14, 14, 128)      0         \n",
            " )                                                               \n",
            "                                                                 \n",
            " conv2d_2 (Conv2D)           (None, 12, 12, 128)       147584    \n",
            "                                                                 \n",
            " flatten (Flatten)           (None, 18432)             0         \n",
            "                                                                 \n",
            " dense (Dense)               (None, 128)               2359424   \n",
            "                                                                 \n",
            " dense_1 (Dense)             (None, 10)                1290      \n",
            "                                                                 \n",
            "=================================================================\n",
            "Total params: 2,583,946\n",
            "Trainable params: 2,583,946\n",
            "Non-trainable params: 0\n",
            "_________________________________________________________________\n"
          ]
        }
      ]
    },
    {
      "cell_type": "code",
      "source": [
        "model.compile(optimizer='adam',\n",
        "              loss='sparse_categorical_crossentropy',\n",
        "              metrics=['accuracy'])"
      ],
      "metadata": {
        "id": "-x_e1eyy2s8m"
      },
      "execution_count": null,
      "outputs": []
    },
    {
      "cell_type": "code",
      "source": [
        "model.fit(x_train, y_train,\n",
        "          epochs=10,\n",
        "          validation_split=0.2\n",
        "          )"
      ],
      "metadata": {
        "colab": {
          "base_uri": "https://localhost:8080/"
        },
        "id": "RYsbyY2T2wlZ",
        "outputId": "59e3d323-b0cd-439a-b3e1-ed92e5c8d6aa"
      },
      "execution_count": null,
      "outputs": [
        {
          "output_type": "stream",
          "name": "stdout",
          "text": [
            "Epoch 1/10\n",
            "1250/1250 [==============================] - 21s 8ms/step - loss: 1.4146 - accuracy: 0.4936 - val_loss: 1.1291 - val_accuracy: 0.5923\n",
            "Epoch 2/10\n",
            "1250/1250 [==============================] - 10s 8ms/step - loss: 0.9882 - accuracy: 0.6554 - val_loss: 0.9323 - val_accuracy: 0.6728\n",
            "Epoch 3/10\n",
            "1250/1250 [==============================] - 10s 8ms/step - loss: 0.7925 - accuracy: 0.7235 - val_loss: 0.8707 - val_accuracy: 0.7013\n",
            "Epoch 4/10\n",
            "1250/1250 [==============================] - 10s 8ms/step - loss: 0.6439 - accuracy: 0.7753 - val_loss: 0.8631 - val_accuracy: 0.7063\n",
            "Epoch 5/10\n",
            "1250/1250 [==============================] - 11s 9ms/step - loss: 0.5074 - accuracy: 0.8201 - val_loss: 0.9447 - val_accuracy: 0.7082\n",
            "Epoch 6/10\n",
            "1250/1250 [==============================] - 10s 8ms/step - loss: 0.3773 - accuracy: 0.8658 - val_loss: 1.0184 - val_accuracy: 0.7090\n",
            "Epoch 7/10\n",
            "1250/1250 [==============================] - 10s 8ms/step - loss: 0.2692 - accuracy: 0.9049 - val_loss: 1.2465 - val_accuracy: 0.7026\n",
            "Epoch 8/10\n",
            "1250/1250 [==============================] - 10s 8ms/step - loss: 0.1993 - accuracy: 0.9287 - val_loss: 1.4036 - val_accuracy: 0.6921\n",
            "Epoch 9/10\n",
            "1250/1250 [==============================] - 10s 8ms/step - loss: 0.1625 - accuracy: 0.9438 - val_loss: 1.6407 - val_accuracy: 0.6898\n",
            "Epoch 10/10\n",
            "1250/1250 [==============================] - 10s 8ms/step - loss: 0.1268 - accuracy: 0.9564 - val_loss: 1.7966 - val_accuracy: 0.6852\n"
          ]
        },
        {
          "output_type": "execute_result",
          "data": {
            "text/plain": [
              "<keras.callbacks.History at 0x7fa5fc283d10>"
            ]
          },
          "metadata": {},
          "execution_count": 13
        }
      ]
    },
    {
      "cell_type": "code",
      "source": [
        ""
      ],
      "metadata": {
        "id": "YPNsmI5Z-Qf0"
      },
      "execution_count": null,
      "outputs": []
    },
    {
      "cell_type": "markdown",
      "source": [
        "// 오버피팅(over fitting)\n",
        "\n",
        "How to prevent overfittig\n",
        "1.Training data - da -> 데이터를 회전하거나 줌,좌우 반전등 처리\n",
        "\n",
        "2.inside neural network - dropout -> 일부 node를 제외 시킴\n",
        "\n",
        "3.Loss funtion/opt -L2 regularization -> 미분 결과를 조금 틀리게 만듬\n",
        "\n",
        "4.Target value- disturb value -> train data에 다른 데이터를 섞음\n",
        "\n",
        "5.smapling - weight random sampling\n",
        "\n",
        "6.iteration session - early stop -> 변화 없을 시 학습을 멈춤\n",
        "\n",
        "7.learning approach - semi - supervised learning"
      ],
      "metadata": {
        "id": "E_2xAY0n-JkU"
      }
    },
    {
      "cell_type": "code",
      "source": [
        "model = tf.keras.models.Sequential()\n",
        "model.add(tf.keras.layers.Conv2D(64, (3, 3), activation='relu', input_shape=(32, 32, 3)))\n",
        "model.add(tf.keras.layers.Dropout(0.3))\n",
        "model.add(tf.keras.layers.MaxPooling2D((2, 2)))\n",
        "model.add(tf.keras.layers.Conv2D(128,(3,3), activation = 'relu'))\n",
        "model.add(tf.keras.layers.Dropout(0.3))\n",
        "model.add(tf.keras.layers.MaxPooling2D((2, 2)))\n",
        "model.add(tf.keras.layers.Conv2D(128,(3,3), activation = 'relu'))\n",
        "\n",
        "\n",
        "model.add(tf.keras.layers.Flatten())\n",
        "model.add(tf.keras.layers.Dense(128, activation=tf.nn.relu))\n",
        "model.add(tf.keras.layers.Dropout(0.3))\n",
        "model.add(tf.keras.layers.Dense(10, activation=tf.nn.softmax))"
      ],
      "metadata": {
        "id": "W8Oled6R3Sv9"
      },
      "execution_count": null,
      "outputs": []
    },
    {
      "cell_type": "code",
      "source": [
        "model.compile(optimizer='adam',\n",
        "              loss='sparse_categorical_crossentropy',\n",
        "              metrics=['accuracy'])"
      ],
      "metadata": {
        "id": "HTzOr_CuBPNW"
      },
      "execution_count": null,
      "outputs": []
    },
    {
      "cell_type": "code",
      "source": [
        "model.fit(x_train, y_train,\n",
        "          epochs=10,\n",
        "          validation_split=0.2\n",
        "          )"
      ],
      "metadata": {
        "colab": {
          "base_uri": "https://localhost:8080/"
        },
        "id": "NBJCRGRJBVYx",
        "outputId": "eb3f2092-1f82-4c9d-c86c-078bb28efaf1"
      },
      "execution_count": null,
      "outputs": [
        {
          "output_type": "stream",
          "name": "stdout",
          "text": [
            "Epoch 1/10\n",
            "1250/1250 [==============================] - 8s 6ms/step - loss: 1.6004 - accuracy: 0.4137 - val_loss: 1.3823 - val_accuracy: 0.5314\n",
            "Epoch 2/10\n",
            "1250/1250 [==============================] - 6s 5ms/step - loss: 1.2421 - accuracy: 0.5582 - val_loss: 1.1944 - val_accuracy: 0.5852\n",
            "Epoch 3/10\n",
            "1250/1250 [==============================] - 6s 5ms/step - loss: 1.0826 - accuracy: 0.6192 - val_loss: 1.0706 - val_accuracy: 0.6368\n",
            "Epoch 4/10\n",
            "1250/1250 [==============================] - 7s 5ms/step - loss: 0.9735 - accuracy: 0.6573 - val_loss: 1.0004 - val_accuracy: 0.6574\n",
            "Epoch 5/10\n",
            "1250/1250 [==============================] - 7s 5ms/step - loss: 0.8923 - accuracy: 0.6848 - val_loss: 1.0053 - val_accuracy: 0.6551\n",
            "Epoch 6/10\n",
            "1250/1250 [==============================] - 6s 5ms/step - loss: 0.8328 - accuracy: 0.7082 - val_loss: 0.9165 - val_accuracy: 0.6868\n",
            "Epoch 7/10\n",
            "1250/1250 [==============================] - 6s 5ms/step - loss: 0.7763 - accuracy: 0.7279 - val_loss: 0.9406 - val_accuracy: 0.6806\n",
            "Epoch 8/10\n",
            "1250/1250 [==============================] - 6s 5ms/step - loss: 0.7287 - accuracy: 0.7430 - val_loss: 0.9135 - val_accuracy: 0.6810\n",
            "Epoch 9/10\n",
            "1250/1250 [==============================] - 7s 5ms/step - loss: 0.6865 - accuracy: 0.7585 - val_loss: 0.8764 - val_accuracy: 0.6999\n",
            "Epoch 10/10\n",
            "1250/1250 [==============================] - 7s 5ms/step - loss: 0.6504 - accuracy: 0.7690 - val_loss: 0.8472 - val_accuracy: 0.7107\n"
          ]
        },
        {
          "output_type": "execute_result",
          "data": {
            "text/plain": [
              "<keras.callbacks.History at 0x7fa5c0326310>"
            ]
          },
          "metadata": {},
          "execution_count": 23
        }
      ]
    },
    {
      "cell_type": "markdown",
      "source": [
        "dropout을 통해 오버피팅을 낮추려 했지만 아직 어느정도 오버피팅이 있으며 accurracy 또한 떨어졌습니다\n",
        "\n",
        "레이어를 늘려 accurracy를 높이고 batchnomallization을 이용하여 오버피팅을 줄이겠습니다\n"
      ],
      "metadata": {
        "id": "UjGdT_HBCI0N"
      }
    },
    {
      "cell_type": "code",
      "source": [
        "model = tf.keras.models.Sequential()\n",
        "model.add(tf.keras.layers.Conv2D(64, (3, 3), activation='relu', padding ='same', input_shape=(32, 32, 3)))\n",
        "model.add(tf.keras.layers.BatchNormalization())\n",
        "model.add(tf.keras.layers.Conv2D(64,(3,3), activation = 'relu'))\n",
        "model.add(tf.keras.layers.Dropout(0.3))\n",
        "model.add(tf.keras.layers.MaxPooling2D((2, 2)))\n",
        "model.add(tf.keras.layers.Conv2D(64,(3,3), activation = 'relu'))\n",
        "\n",
        "model.add(tf.keras.layers.Conv2D(128, (3, 3), activation='relu', padding= 'same'))\n",
        "model.add(tf.keras.layers.BatchNormalization())\n",
        "model.add(tf.keras.layers.Conv2D(128,(3,3), activation = 'relu'))\n",
        "model.add(tf.keras.layers.Dropout(0.3))\n",
        "model.add(tf.keras.layers.MaxPooling2D((2, 2)))\n",
        "model.add(tf.keras.layers.Conv2D(128,(3,3), activation = 'relu'))\n",
        "\n",
        "\n",
        "model.add(tf.keras.layers.Flatten())\n",
        "model.add(tf.keras.layers.Dense(128, activation=tf.nn.relu))\n",
        "model.add(tf.keras.layers.Dropout(0.3))\n",
        "model.add(tf.keras.layers.Dense(10, activation=tf.nn.softmax))"
      ],
      "metadata": {
        "id": "IIeJ1ZsoBdEj"
      },
      "execution_count": null,
      "outputs": []
    },
    {
      "cell_type": "code",
      "source": [
        "model.compile(optimizer='adam',\n",
        "              loss='sparse_categorical_crossentropy',\n",
        "              metrics=['accuracy'])"
      ],
      "metadata": {
        "id": "-3IWeLEfE8im"
      },
      "execution_count": null,
      "outputs": []
    },
    {
      "cell_type": "code",
      "source": [
        "model.fit(x_train, y_train,\n",
        "          epochs=10,\n",
        "          validation_split=0.2\n",
        "          )"
      ],
      "metadata": {
        "colab": {
          "base_uri": "https://localhost:8080/"
        },
        "id": "Hx3CGLX5E9a1",
        "outputId": "965d556b-4c86-4731-ae4a-51b44f94cc44"
      },
      "execution_count": null,
      "outputs": [
        {
          "output_type": "stream",
          "name": "stdout",
          "text": [
            "Epoch 1/10\n",
            "1250/1250 [==============================] - 13s 9ms/step - loss: 1.6036 - accuracy: 0.4216 - val_loss: 1.3858 - val_accuracy: 0.5290\n",
            "Epoch 2/10\n",
            "1250/1250 [==============================] - 11s 9ms/step - loss: 1.1875 - accuracy: 0.5806 - val_loss: 1.2007 - val_accuracy: 0.5838\n",
            "Epoch 3/10\n",
            "1250/1250 [==============================] - 11s 9ms/step - loss: 0.9833 - accuracy: 0.6556 - val_loss: 1.2202 - val_accuracy: 0.5658\n",
            "Epoch 4/10\n",
            "1250/1250 [==============================] - 11s 9ms/step - loss: 0.8686 - accuracy: 0.7016 - val_loss: 1.0012 - val_accuracy: 0.6552\n",
            "Epoch 5/10\n",
            "1250/1250 [==============================] - 11s 9ms/step - loss: 0.7712 - accuracy: 0.7339 - val_loss: 0.7867 - val_accuracy: 0.7243\n",
            "Epoch 6/10\n",
            "1250/1250 [==============================] - 11s 9ms/step - loss: 0.7055 - accuracy: 0.7574 - val_loss: 0.8866 - val_accuracy: 0.7026\n",
            "Epoch 7/10\n",
            "1250/1250 [==============================] - 12s 9ms/step - loss: 0.6544 - accuracy: 0.7775 - val_loss: 0.7861 - val_accuracy: 0.7323\n",
            "Epoch 8/10\n",
            "1250/1250 [==============================] - 11s 9ms/step - loss: 0.6070 - accuracy: 0.7926 - val_loss: 0.7001 - val_accuracy: 0.7563\n",
            "Epoch 9/10\n",
            "1250/1250 [==============================] - 11s 9ms/step - loss: 0.5692 - accuracy: 0.8044 - val_loss: 0.8115 - val_accuracy: 0.7263\n",
            "Epoch 10/10\n",
            "1250/1250 [==============================] - 11s 9ms/step - loss: 0.5292 - accuracy: 0.8198 - val_loss: 0.7441 - val_accuracy: 0.7547\n"
          ]
        },
        {
          "output_type": "execute_result",
          "data": {
            "text/plain": [
              "<keras.callbacks.History at 0x7fa5c1657cd0>"
            ]
          },
          "metadata": {},
          "execution_count": 29
        }
      ]
    },
    {
      "cell_type": "code",
      "source": [
        "model = tf.keras.models.Sequential()\n",
        "model.add(tf.keras.layers.Conv2D(64, (3, 3), activation='relu', padding ='same', input_shape=(32, 32, 3)))\n",
        "model.add(tf.keras.layers.BatchNormalization())\n",
        "model.add(tf.keras.layers.Conv2D(64,(3,3), activation = 'relu'))\n",
        "model.add(tf.keras.layers.Dropout(0.4))\n",
        "model.add(tf.keras.layers.MaxPooling2D((2, 2)))\n",
        "model.add(tf.keras.layers.Conv2D(64,(3,3), activation = 'relu'))\n",
        "\n",
        "model.add(tf.keras.layers.Conv2D(128, (3, 3), activation='relu', padding= 'same'))\n",
        "model.add(tf.keras.layers.BatchNormalization())\n",
        "model.add(tf.keras.layers.Conv2D(128,(3,3), activation = 'relu'))\n",
        "model.add(tf.keras.layers.Dropout(0.4))\n",
        "model.add(tf.keras.layers.MaxPooling2D((2, 2)))\n",
        "model.add(tf.keras.layers.Conv2D(128,(3,3), activation = 'relu'))\n",
        "\n",
        "model.add(tf.keras.layers.Conv2D(256, (3, 3), activation='relu', padding= 'same'))\n",
        "model.add(tf.keras.layers.BatchNormalization())\n",
        "model.add(tf.keras.layers.Conv2D(256,(3,3), activation = 'relu'))\n",
        "model.add(tf.keras.layers.Dropout(0.4))\n",
        "\n",
        "\n",
        "model.add(tf.keras.layers.Flatten())\n",
        "model.add(tf.keras.layers.Dense(256, activation=tf.nn.relu))\n",
        "model.add(tf.keras.layers.Dropout(0.3))\n",
        "model.add(tf.keras.layers.Dense(10, activation=tf.nn.softmax))"
      ],
      "metadata": {
        "id": "Gdurzt15E_dY"
      },
      "execution_count": null,
      "outputs": []
    },
    {
      "cell_type": "code",
      "source": [
        "model.compile(optimizer='adam',\n",
        "              loss='sparse_categorical_crossentropy',\n",
        "              metrics=['accuracy'])"
      ],
      "metadata": {
        "id": "cINgSDvWFuK3"
      },
      "execution_count": null,
      "outputs": []
    },
    {
      "cell_type": "code",
      "source": [
        "model.fit(x_train, y_train,\n",
        "          epochs=10,\n",
        "          validation_split=0.2\n",
        "          )"
      ],
      "metadata": {
        "colab": {
          "base_uri": "https://localhost:8080/"
        },
        "id": "H1CsRcLSHZ-l",
        "outputId": "3c35e6b1-5db5-4288-8a3d-dc9b6c6414e8"
      },
      "execution_count": null,
      "outputs": [
        {
          "output_type": "stream",
          "name": "stdout",
          "text": [
            "Epoch 1/10\n",
            "1250/1250 [==============================] - 14s 11ms/step - loss: 1.8400 - accuracy: 0.3089 - val_loss: 1.7100 - val_accuracy: 0.3630\n",
            "Epoch 2/10\n",
            "1250/1250 [==============================] - 13s 10ms/step - loss: 1.4369 - accuracy: 0.4780 - val_loss: 1.5197 - val_accuracy: 0.4980\n",
            "Epoch 3/10\n",
            "1250/1250 [==============================] - 13s 10ms/step - loss: 1.1785 - accuracy: 0.5899 - val_loss: 1.3896 - val_accuracy: 0.5293\n",
            "Epoch 4/10\n",
            "1250/1250 [==============================] - 13s 10ms/step - loss: 1.0074 - accuracy: 0.6562 - val_loss: 1.1366 - val_accuracy: 0.6137\n",
            "Epoch 5/10\n",
            "1250/1250 [==============================] - 13s 10ms/step - loss: 0.8989 - accuracy: 0.6971 - val_loss: 1.2307 - val_accuracy: 0.5705\n",
            "Epoch 6/10\n",
            "1250/1250 [==============================] - 13s 10ms/step - loss: 0.8155 - accuracy: 0.7272 - val_loss: 0.9428 - val_accuracy: 0.7036\n",
            "Epoch 7/10\n",
            "1250/1250 [==============================] - 13s 10ms/step - loss: 0.7423 - accuracy: 0.7519 - val_loss: 1.1674 - val_accuracy: 0.6444\n",
            "Epoch 8/10\n",
            "1250/1250 [==============================] - 13s 10ms/step - loss: 0.6880 - accuracy: 0.7702 - val_loss: 0.8059 - val_accuracy: 0.7409\n",
            "Epoch 9/10\n",
            "1250/1250 [==============================] - 13s 10ms/step - loss: 0.6361 - accuracy: 0.7897 - val_loss: 0.9346 - val_accuracy: 0.6987\n",
            "Epoch 10/10\n",
            "1250/1250 [==============================] - 13s 10ms/step - loss: 0.5915 - accuracy: 0.8059 - val_loss: 0.8509 - val_accuracy: 0.7109\n"
          ]
        },
        {
          "output_type": "execute_result",
          "data": {
            "text/plain": [
              "<keras.callbacks.History at 0x7fa58a41c1d0>"
            ]
          },
          "metadata": {},
          "execution_count": 38
        }
      ]
    },
    {
      "cell_type": "code",
      "source": [
        ""
      ],
      "metadata": {
        "id": "TgehlbjKHblU"
      },
      "execution_count": null,
      "outputs": []
    }
  ]
}